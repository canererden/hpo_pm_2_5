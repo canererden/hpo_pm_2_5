{
 "cells": [
  {
   "cell_type": "code",
   "execution_count": 1,
   "id": "7aadb855",
   "metadata": {},
   "outputs": [],
   "source": [
    "import pandas as pd\n",
    "import glob, os\n",
    "df = pd.concat(map(pd.read_csv, glob.glob(os.path.join('', \"*.csv\"))))\n",
    "all_df = df.drop(['Unnamed: 0'], axis=1).reset_index(drop=True)\n"
   ]
  },
  {
   "cell_type": "code",
   "execution_count": 2,
   "id": "18f681cc",
   "metadata": {},
   "outputs": [
    {
     "data": {
      "text/html": [
       "<div>\n",
       "<style scoped>\n",
       "    .dataframe tbody tr th:only-of-type {\n",
       "        vertical-align: middle;\n",
       "    }\n",
       "\n",
       "    .dataframe tbody tr th {\n",
       "        vertical-align: top;\n",
       "    }\n",
       "\n",
       "    .dataframe thead th {\n",
       "        text-align: right;\n",
       "    }\n",
       "</style>\n",
       "<table border=\"1\" class=\"dataframe\">\n",
       "  <thead>\n",
       "    <tr style=\"text-align: right;\">\n",
       "      <th></th>\n",
       "      <th>Set</th>\n",
       "      <th>MSE</th>\n",
       "      <th>MAE</th>\n",
       "      <th>RMSE</th>\n",
       "      <th>R2</th>\n",
       "      <th>MAPE</th>\n",
       "      <th>MAX_ERROR</th>\n",
       "      <th>EXP_VAR_SCORE</th>\n",
       "    </tr>\n",
       "  </thead>\n",
       "  <tbody>\n",
       "    <tr>\n",
       "      <th>0</th>\n",
       "      <td>test</td>\n",
       "      <td>31.284474</td>\n",
       "      <td>3.662088</td>\n",
       "      <td>5.593253</td>\n",
       "      <td>0.806533</td>\n",
       "      <td>0.151547</td>\n",
       "      <td>46.690492</td>\n",
       "      <td>0.831314</td>\n",
       "    </tr>\n",
       "    <tr>\n",
       "      <th>1</th>\n",
       "      <td>train</td>\n",
       "      <td>29.428738</td>\n",
       "      <td>3.519136</td>\n",
       "      <td>5.424826</td>\n",
       "      <td>0.873054</td>\n",
       "      <td>0.143724</td>\n",
       "      <td>69.707840</td>\n",
       "      <td>0.877189</td>\n",
       "    </tr>\n",
       "    <tr>\n",
       "      <th>2</th>\n",
       "      <td>test</td>\n",
       "      <td>25.522630</td>\n",
       "      <td>3.328974</td>\n",
       "      <td>5.051993</td>\n",
       "      <td>0.872768</td>\n",
       "      <td>0.173782</td>\n",
       "      <td>52.325000</td>\n",
       "      <td>0.872782</td>\n",
       "    </tr>\n",
       "    <tr>\n",
       "      <th>3</th>\n",
       "      <td>train</td>\n",
       "      <td>28.526360</td>\n",
       "      <td>3.554938</td>\n",
       "      <td>5.341007</td>\n",
       "      <td>0.895349</td>\n",
       "      <td>0.149712</td>\n",
       "      <td>68.165452</td>\n",
       "      <td>0.897296</td>\n",
       "    </tr>\n",
       "    <tr>\n",
       "      <th>4</th>\n",
       "      <td>test</td>\n",
       "      <td>23.180742</td>\n",
       "      <td>3.139926</td>\n",
       "      <td>4.814638</td>\n",
       "      <td>0.888533</td>\n",
       "      <td>0.141210</td>\n",
       "      <td>46.238622</td>\n",
       "      <td>0.892471</td>\n",
       "    </tr>\n",
       "  </tbody>\n",
       "</table>\n",
       "</div>"
      ],
      "text/plain": [
       "     Set        MSE       MAE      RMSE        R2      MAPE  MAX_ERROR  \\\n",
       "0   test  31.284474  3.662088  5.593253  0.806533  0.151547  46.690492   \n",
       "1  train  29.428738  3.519136  5.424826  0.873054  0.143724  69.707840   \n",
       "2   test  25.522630  3.328974  5.051993  0.872768  0.173782  52.325000   \n",
       "3  train  28.526360  3.554938  5.341007  0.895349  0.149712  68.165452   \n",
       "4   test  23.180742  3.139926  4.814638  0.888533  0.141210  46.238622   \n",
       "\n",
       "   EXP_VAR_SCORE  \n",
       "0       0.831314  \n",
       "1       0.877189  \n",
       "2       0.872782  \n",
       "3       0.897296  \n",
       "4       0.892471  "
      ]
     },
     "execution_count": 2,
     "metadata": {},
     "output_type": "execute_result"
    }
   ],
   "source": [
    "all_df.head()"
   ]
  },
  {
   "cell_type": "code",
   "execution_count": 3,
   "id": "b8634e0f",
   "metadata": {},
   "outputs": [],
   "source": [
    "all_df.to_csv(\"all_results.csv\")"
   ]
  },
  {
   "cell_type": "code",
   "execution_count": null,
   "id": "3c1b1b59",
   "metadata": {},
   "outputs": [],
   "source": []
  }
 ],
 "metadata": {
  "kernelspec": {
   "display_name": "Python 3 (ipykernel)",
   "language": "python",
   "name": "python3"
  },
  "language_info": {
   "codemirror_mode": {
    "name": "ipython",
    "version": 3
   },
   "file_extension": ".py",
   "mimetype": "text/x-python",
   "name": "python",
   "nbconvert_exporter": "python",
   "pygments_lexer": "ipython3",
   "version": "3.9.7"
  },
  "toc": {
   "base_numbering": 1,
   "nav_menu": {},
   "number_sections": true,
   "sideBar": true,
   "skip_h1_title": false,
   "title_cell": "Table of Contents",
   "title_sidebar": "Contents",
   "toc_cell": false,
   "toc_position": {},
   "toc_section_display": true,
   "toc_window_display": false
  },
  "varInspector": {
   "cols": {
    "lenName": 16,
    "lenType": 16,
    "lenVar": 40
   },
   "kernels_config": {
    "python": {
     "delete_cmd_postfix": "",
     "delete_cmd_prefix": "del ",
     "library": "var_list.py",
     "varRefreshCmd": "print(var_dic_list())"
    },
    "r": {
     "delete_cmd_postfix": ") ",
     "delete_cmd_prefix": "rm(",
     "library": "var_list.r",
     "varRefreshCmd": "cat(var_dic_list()) "
    }
   },
   "types_to_exclude": [
    "module",
    "function",
    "builtin_function_or_method",
    "instance",
    "_Feature"
   ],
   "window_display": false
  }
 },
 "nbformat": 4,
 "nbformat_minor": 5
}
